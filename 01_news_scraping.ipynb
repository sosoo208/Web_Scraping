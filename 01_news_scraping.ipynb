{
 "cells": [
  {
   "cell_type": "markdown",
   "id": "8fa0ff8d",
   "metadata": {},
   "source": [
    "#### **질문1)** url에서 뉴스기사의 링크와 제목을 출력하세요."
   ]
  },
  {
   "cell_type": "code",
   "execution_count": 27,
   "id": "6740b1be",
   "metadata": {},
   "outputs": [
    {
     "name": "stdout",
     "output_type": "stream",
     "text": [
      "https://news.daum.net/economy\n",
      "<class 'requests.models.Response'>\n",
      "200\n",
      "<class 'bs4.element.ResultSet'> 9\n",
      "https://v.daum.net/v/20250722210317765\n",
      "韓 반도체는 깨어날 줄 모르고 [AI 칩 전쟁…한국은 없다?] 세계 인공지능(AI) 칩 산업을 엔비디아가 사실상 장악한 가운데, 국내 기업은 갈 길이 멀다는 지적이 쏟아진다. 리벨리온과 퓨리오사AI 같은 팹리스(Fabless·반도체 설계) 업체가 대만 TSMC 등 파운드리 업체를 통해 AI 반도체 신경망처리장치(NPU)를 제조 중이지만, 빅테크와는 비교 불가다. 특히, 국내 AI 산업은 생태계 전반을 포괄적으로 아우르 매경이코노미 22분 전\n",
      "https://v.daum.net/v/20250722204242273\n",
      "소비쿠폰 쓰려다가 '화들짝'…\"여기서는 못써요\" 응답에 '당황'한 소비자 아시아경제 43분 전\n",
      "https://v.daum.net/v/20250722202007801\n",
      "‘해수부 부산 시대’ 조선·해양플랜트까지 업무 넓혀야 부산일보 1시간 전\n",
      "https://v.daum.net/v/20250722200357366\n",
      "동영상     [이슈대담] “2040년 석탄화력발전소 폐쇄…신재생 에너지 전환” KBS 1시간 전\n",
      "https://v.daum.net/v/20250722190900992\n",
      "경제통상 외교수장들, 대거 미국행... 관세 타결·한미정상회담 열릴까 오마이뉴스 2시간 전\n",
      "https://v.daum.net/v/20250722185103483\n",
      "퇴근하면 시작된다...유통업계 다시 불붙은 '6시 쇼핑' 전쟁 중앙일보 3시간 전\n",
      "https://v.daum.net/v/20250722183143976\n",
      "“자율주행, 이동약자 지원하는 ‘공공성’에 초점 맞춰야” 한겨레 3시간 전\n",
      "https://v.daum.net/v/20250722181057244\n",
      "꾸준히 강세 흐름 보이는 메이저 알트코인들 : 코리안 크립토 위클리 [INFCL 리서치] 한국경제 3시간 전\n",
      "https://v.daum.net/v/20250722175548581\n",
      "세계시장 제패한 K뷰티·푸드…'첨단' 아니라며 R&D지원은 쥐꼬리 한국경제 3시간 전\n"
     ]
    }
   ],
   "source": [
    "import requests\n",
    "import bs4\n",
    "from bs4 import BeautifulSoup\n",
    "\n",
    "#경제 뉴스\n",
    "req_param = {\n",
    "    'sid': 'economy'\n",
    "}\n",
    "\n",
    "url = 'https://news.daum.net/{sid}'.format(**req_param)\n",
    "print(url)\n",
    "\n",
    "#요청 헤더 설정\n",
    "req_header = {\n",
    "    \"user-agent\": \"Mozilla/5.0 (Windows NT 10.0; Win64; x64) AppleWebKit/537.36 (KHTML, like Gecko) Chrome/104.0.0.0 Safari/537.36\"\n",
    "}\n",
    "\n",
    "#requests의 get함수 호출\n",
    "res = requests.get(url, headers = req_header)\n",
    "print(type(res))\n",
    "print(res.status_code)\n",
    "\n",
    "if res.ok:\n",
    "    res.encoding = \"utf-8\"\n",
    "    html = res.text\n",
    "    soup = BeautifulSoup(html, \"html.parser\")\n",
    "    a_tag = soup.select(\"ul.list_newsheadline2 a[href*='https://v.daum.net/v']\")\n",
    "    print(type(a_tag), len(a_tag))\n",
    "\n",
    "    for idx,a_tag in enumerate(a_tag,1):\n",
    "        if a_tag.text:\n",
    "            title = a_tag.text.strip()\n",
    "            link = a_tag['href']\n",
    "            print(f'{link}')\n",
    "            print(f'{title}')\n",
    "else:\n",
    "    print(f'Error Code = {res.status_code}')\n",
    "\n"
   ]
  },
  {
   "cell_type": "markdown",
   "id": "a9c69171",
   "metadata": {},
   "source": [
    "#### **질문2)**  여러개의 section 중 하나를 선택해서 url에서 뉴스기사의 링크와 제목을 출력하는 코드를 함수로 작성하기"
   ]
  },
  {
   "cell_type": "code",
   "execution_count": 39,
   "id": "49a828ae",
   "metadata": {},
   "outputs": [
    {
     "name": "stdout",
     "output_type": "stream",
     "text": [
      "======> https://news.daum.net/economy 경제 뉴스 <======\n",
      "https://v.daum.net/v/20250722210317765\n",
      "韓 반도체는 깨어날 줄 모르고 [AI 칩 전쟁…한국은 없다?] 세계 인공지능(AI) 칩 산업을 엔비디아가 사실상 장악한 가운데, 국내 기업은 갈 길이 멀다는 지적이 쏟아진다. 리벨리온과 퓨리오사AI 같은 팹리스(Fabless·반도체 설계) 업체가 대만 TSMC 등 파운드리 업체를 통해 AI 반도체 신경망처리장치(NPU)를 제조 중이지만, 빅테크와는 비교 불가다. 특히, 국내 AI 산업은 생태계 전반을 포괄적으로 아우르 매경이코노미 33분 전\n",
      "https://v.daum.net/v/20250722204242273\n",
      "소비쿠폰 쓰려다가 '화들짝'…\"여기서는 못써요\" 응답에 '당황'한 소비자 아시아경제 54분 전\n",
      "https://v.daum.net/v/20250722202007801\n",
      "‘해수부 부산 시대’ 조선·해양플랜트까지 업무 넓혀야 부산일보 1시간 전\n",
      "https://v.daum.net/v/20250722200357366\n",
      "동영상     [이슈대담] “2040년 석탄화력발전소 폐쇄…신재생 에너지 전환” KBS 2시간 전\n",
      "https://v.daum.net/v/20250722190900992\n",
      "경제통상 외교수장들, 대거 미국행... 관세 타결·한미정상회담 열릴까 오마이뉴스 2시간 전\n",
      "https://v.daum.net/v/20250722185103483\n",
      "퇴근하면 시작된다...유통업계 다시 불붙은 '6시 쇼핑' 전쟁 중앙일보 3시간 전\n",
      "https://v.daum.net/v/20250722183143976\n",
      "“자율주행, 이동약자 지원하는 ‘공공성’에 초점 맞춰야” 한겨레 3시간 전\n",
      "https://v.daum.net/v/20250722181057244\n",
      "꾸준히 강세 흐름 보이는 메이저 알트코인들 : 코리안 크립토 위클리 [INFCL 리서치] 한국경제 3시간 전\n",
      "https://v.daum.net/v/20250722175548581\n",
      "세계시장 제패한 K뷰티·푸드…'첨단' 아니라며 R&D지원은 쥐꼬리 한국경제 4시간 전\n",
      "======> https://news.daum.net/society 사회 뉴스 <======\n",
      "https://v.daum.net/v/20250722213017302\n",
      "[28] ‘모란이 피기까지는’...김영랑은 항일 저항시인이었다. [광주전남독립운동현장 50] 모란이 피기까지는 나는 아직 나의 봄을 기둘리고 있을테요 모란이 뚝뚝 떨어져 버린 날 나는 비로소 봄을 여윈 설움에 잠길테요 오월 어느날 그 하루 무덥단 날 떨어져 누운 꽃잎 시들어버리고는 천지에 모란은 자취도 없어지고 뻗쳐 오르던 내 보람 서운케 무너졌으니 모란이 지고 말면 그뿐 내 한 해는 다 가고 말아 삼백예순날 하냥 섭섭해 우옵네다 모란이 피기까지는 남도일보 6분 전\n",
      "https://v.daum.net/v/20250722210541832\n",
      "동영상     760억 등친 '수원 왕회장' 숨은 재산 추적…감옥서도 돈벌이, 피해자 두 번 울린 전세사기단 JTBC 31분 전\n",
      "https://v.daum.net/v/20250722210344774\n",
      "“×× 시청인데요, 물품 대리납품 좀…” 전국 공무원 사칭 사기 주의!! 세계일보 33분 전\n",
      "https://v.daum.net/v/20250722205947653\n",
      "의대생 복귀 방안 협의 막바지…반대 국민청원은 5만 돌파 더팩트 37분 전\n",
      "https://v.daum.net/v/20250722205117470\n",
      "동영상     [밀착카메라] 장마엔 젖어서, 폭염엔 더워서…안전 위험한 '폐지 어르신' JTBC 45분 전\n",
      "https://v.daum.net/v/20250722204626341\n",
      "[호국의 성지 남해 관음포]삼별초는 왜 남해로 향했나 경남일보 50분 전\n",
      "https://v.daum.net/v/20250722204505326\n",
      "“800억 어디서 구하나” 부산오페라하우스 발등의 불 부산일보 51분 전\n",
      "https://v.daum.net/v/20250722203829159\n",
      "[고립·은둔 청년 방문을 열다] '일상'이 낯설던 청년들, 다시 일상을 배우다 중부일보 58분 전\n",
      "https://v.daum.net/v/20250722203442092\n",
      "[단독] 110억 혈세에 자산 31배 급증… 대구치맥축제 주최단체 도마위 프레시안 1시간 전\n"
     ]
    }
   ],
   "source": [
    "import requests\n",
    "from bs4 import BeautifulSoup\n",
    "\n",
    "section_dict = {'경제': 'economy', '사회': 'society'}\n",
    "\n",
    "def print_news(section):\n",
    "    sid = section_dict[section]\n",
    "    url = f'https://news.daum.net/{sid}'\n",
    "    print(\"======>\", f'{url} {section} 뉴스', \"<======\")\n",
    "\n",
    "    req_header = {\n",
    "        \"user-agent\": \"Mozilla/5.0 (Windows NT 10.0; Win64; x64) AppleWebKit/537.36 (KHTML, like Gecko) Chrome/104.0.0.0 Safari/537.36\"\n",
    "    }\n",
    "\n",
    "    res = requests.get(url, headers=req_header)\n",
    "    \n",
    "    if res.ok:\n",
    "        res.encoding = \"utf-8\"\n",
    "        html = res.text\n",
    "        soup = BeautifulSoup(html, \"html.parser\")\n",
    "        a_tag = soup.select(\"ul.list_newsheadline2 a[href*='https://v.daum.net/v']\")\n",
    "        \n",
    "        for idx,a_tag in enumerate(a_tag,1):\n",
    "            if a_tag.text:\n",
    "                title = a_tag.text.strip()\n",
    "                link = a_tag['href']\n",
    "                print(f'{link}')\n",
    "                print(f'{title}')\n",
    "    else:\n",
    "        print(f'Error Code = {res.status_code}')\n",
    "\n",
    "print_news('경제')\n",
    "print_news('사회')\n",
    "        "
   ]
  },
  {
   "cell_type": "code",
   "execution_count": null,
   "id": "9f915471",
   "metadata": {},
   "outputs": [],
   "source": []
  }
 ],
 "metadata": {
  "kernelspec": {
   "display_name": "base",
   "language": "python",
   "name": "python3"
  },
  "language_info": {
   "codemirror_mode": {
    "name": "ipython",
    "version": 3
   },
   "file_extension": ".py",
   "mimetype": "text/x-python",
   "name": "python",
   "nbconvert_exporter": "python",
   "pygments_lexer": "ipython3",
   "version": "3.11.11"
  }
 },
 "nbformat": 4,
 "nbformat_minor": 5
}
